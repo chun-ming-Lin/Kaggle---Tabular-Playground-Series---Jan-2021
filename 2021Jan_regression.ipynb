{
  "nbformat": 4,
  "nbformat_minor": 0,
  "metadata": {
    "colab": {
      "name": "2021Jan_regression.ipynb",
      "provenance": []
    },
    "kernelspec": {
      "name": "python3",
      "display_name": "Python 3"
    }
  },
  "cells": [
    {
      "cell_type": "code",
      "metadata": {
        "id": "tmv6AJv0GXZD"
      },
      "source": [
        "import numpy as np\r\n",
        "import pandas as pd\r\n",
        "import keras\r\n",
        "# from keras.utils import to_categorical\r\n",
        "from keras.models import Sequential\r\n",
        "from keras.layers import Dense, Dropout\r\n",
        "from matplotlib import pyplot as plt\r\n",
        "import seaborn as sns \r\n",
        "from os import makedirs\r\n",
        "from sklearn.metrics import mean_squared_error\r\n",
        "from sklearn.linear_model import LinearRegression\r\n",
        "from keras.models import load_model\r\n",
        "from numpy import dstack\r\n",
        "\r\n",
        "# from sklearn.ensemble import RandomForestRegressor\r\n",
        "\r\n",
        "from keras.utils import plot_model\r\n",
        "from keras.models import Model\r\n",
        "from keras.layers import Input\r\n",
        "from keras.layers.merge import concatenate\r\n"
      ],
      "execution_count": 1,
      "outputs": []
    },
    {
      "cell_type": "code",
      "metadata": {
        "colab": {
          "base_uri": "https://localhost:8080/",
          "height": 153
        },
        "id": "jVK8x4ScNQUC",
        "outputId": "360161c4-7528-4e14-d41a-e11c5c53a5d3"
      },
      "source": [
        "data_df = pd.read_csv('/content/drive/MyDrive/Colab Notebooks/tabular_2021_Jan/train.csv', index_col='id')\r\n",
        "sub_df = pd.read_csv('/content/drive/MyDrive/Colab Notebooks/tabular_2021_Jan/test.csv', index_col='id')\r\n",
        "submission_df = pd.read_csv('/content/drive/MyDrive/Colab Notebooks/tabular_2021_Jan/sample_submission.csv', index_col='id')\r\n",
        "print(data_df.shape, sub_df.shape)\r\n",
        "data_df[:2]"
      ],
      "execution_count": 2,
      "outputs": [
        {
          "output_type": "stream",
          "text": [
            "(300000, 15) (200000, 14)\n"
          ],
          "name": "stdout"
        },
        {
          "output_type": "execute_result",
          "data": {
            "text/html": [
              "<div>\n",
              "<style scoped>\n",
              "    .dataframe tbody tr th:only-of-type {\n",
              "        vertical-align: middle;\n",
              "    }\n",
              "\n",
              "    .dataframe tbody tr th {\n",
              "        vertical-align: top;\n",
              "    }\n",
              "\n",
              "    .dataframe thead th {\n",
              "        text-align: right;\n",
              "    }\n",
              "</style>\n",
              "<table border=\"1\" class=\"dataframe\">\n",
              "  <thead>\n",
              "    <tr style=\"text-align: right;\">\n",
              "      <th></th>\n",
              "      <th>cont1</th>\n",
              "      <th>cont2</th>\n",
              "      <th>cont3</th>\n",
              "      <th>cont4</th>\n",
              "      <th>cont5</th>\n",
              "      <th>cont6</th>\n",
              "      <th>cont7</th>\n",
              "      <th>cont8</th>\n",
              "      <th>cont9</th>\n",
              "      <th>cont10</th>\n",
              "      <th>cont11</th>\n",
              "      <th>cont12</th>\n",
              "      <th>cont13</th>\n",
              "      <th>cont14</th>\n",
              "      <th>target</th>\n",
              "    </tr>\n",
              "    <tr>\n",
              "      <th>id</th>\n",
              "      <th></th>\n",
              "      <th></th>\n",
              "      <th></th>\n",
              "      <th></th>\n",
              "      <th></th>\n",
              "      <th></th>\n",
              "      <th></th>\n",
              "      <th></th>\n",
              "      <th></th>\n",
              "      <th></th>\n",
              "      <th></th>\n",
              "      <th></th>\n",
              "      <th></th>\n",
              "      <th></th>\n",
              "      <th></th>\n",
              "    </tr>\n",
              "  </thead>\n",
              "  <tbody>\n",
              "    <tr>\n",
              "      <th>1</th>\n",
              "      <td>0.670390</td>\n",
              "      <td>0.811300</td>\n",
              "      <td>0.643968</td>\n",
              "      <td>0.291791</td>\n",
              "      <td>0.284117</td>\n",
              "      <td>0.855953</td>\n",
              "      <td>0.890700</td>\n",
              "      <td>0.285542</td>\n",
              "      <td>0.558245</td>\n",
              "      <td>0.779418</td>\n",
              "      <td>0.921832</td>\n",
              "      <td>0.866772</td>\n",
              "      <td>0.878733</td>\n",
              "      <td>0.305411</td>\n",
              "      <td>7.243043</td>\n",
              "    </tr>\n",
              "    <tr>\n",
              "      <th>3</th>\n",
              "      <td>0.388053</td>\n",
              "      <td>0.621104</td>\n",
              "      <td>0.686102</td>\n",
              "      <td>0.501149</td>\n",
              "      <td>0.643790</td>\n",
              "      <td>0.449805</td>\n",
              "      <td>0.510824</td>\n",
              "      <td>0.580748</td>\n",
              "      <td>0.418335</td>\n",
              "      <td>0.432632</td>\n",
              "      <td>0.439872</td>\n",
              "      <td>0.434971</td>\n",
              "      <td>0.369957</td>\n",
              "      <td>0.369484</td>\n",
              "      <td>8.203331</td>\n",
              "    </tr>\n",
              "  </tbody>\n",
              "</table>\n",
              "</div>"
            ],
            "text/plain": [
              "       cont1     cont2     cont3  ...    cont13    cont14    target\n",
              "id                                ...                              \n",
              "1   0.670390  0.811300  0.643968  ...  0.878733  0.305411  7.243043\n",
              "3   0.388053  0.621104  0.686102  ...  0.369957  0.369484  8.203331\n",
              "\n",
              "[2 rows x 15 columns]"
            ]
          },
          "metadata": {
            "tags": []
          },
          "execution_count": 2
        }
      ]
    },
    {
      "cell_type": "code",
      "metadata": {
        "id": "GzLkstyOKc8f"
      },
      "source": [
        "data_target = data_df.pop('target')"
      ],
      "execution_count": 3,
      "outputs": []
    },
    {
      "cell_type": "code",
      "metadata": {
        "id": "9FV3oz94IvtU"
      },
      "source": [
        "n_train = data_df.shape[0] // 10\r\n",
        "n_valid = data_df.shape[0] // 10\r\n",
        "\r\n",
        "X_train, y_train = data_df[:n_train], data_target[:n_train]\r\n",
        "X_test, y_test = data_df[n_train:(data_df.shape[0]-n_valid)], data_target[n_train:(data_df.shape[0]-n_valid)]\r\n",
        "# usually this is not 'validation data', but I want to use it to test 'stacked model'\r\n",
        "X_valid, y_valid = data_df[-n_valid:], data_target[-n_valid:]"
      ],
      "execution_count": 4,
      "outputs": []
    },
    {
      "cell_type": "markdown",
      "metadata": {
        "id": "fsPRYe2A4WD1"
      },
      "source": [
        "## data visual"
      ]
    },
    {
      "cell_type": "code",
      "metadata": {
        "colab": {
          "base_uri": "https://localhost:8080/",
          "height": 1000
        },
        "id": "r14EzeCU4UcP",
        "outputId": "ce5df440-149a-4621-8059-cc1d5bf6c9e5"
      },
      "source": [
        "%matplotlib inline\r\n",
        "import warnings\r\n",
        "warnings.filterwarnings(\"ignore\")\r\n",
        "\r\n",
        "fig, ax = plt.subplots(14, 2, figsize=(10, 30))\r\n",
        "\r\n",
        "for i in range(1, 15):\r\n",
        "\r\n",
        "  sns.histplot(data_df['cont'+str(i)], ax=ax[i-1][0])\r\n",
        "  sns.histplot(sub_df['cont'+str(i)], ax=ax[i-1][1])\r\n",
        "fig.tight_layout()\r\n",
        "plt.savefig('data.png')"
      ],
      "execution_count": 5,
      "outputs": [
        {
          "output_type": "display_data",
          "data": {
            "image/png": "[encoded data removed]",
            "text/plain": [
              "<Figure size 720x2160 with 28 Axes>"
            ]
          },
          "metadata": {
            "tags": [],
            "needs_background": "light"
          }
        }
      ]
    },
    {
      "cell_type": "code",
      "metadata": {
        "colab": {
          "base_uri": "https://localhost:8080/",
          "height": 296
        },
        "id": "R3OidyCro9ks",
        "outputId": "ebdb8805-f45d-4366-9aec-50161fabe8c0"
      },
      "source": [
        "sns.histplot(data_target)"
      ],
      "execution_count": 6,
      "outputs": [
        {
          "output_type": "execute_result",
          "data": {
            "text/plain": [
              "<matplotlib.axes._subplots.AxesSubplot at 0x7fa63507def0>"
            ]
          },
          "metadata": {
            "tags": []
          },
          "execution_count": 6
        },
        {
          "output_type": "display_data",
          "data": {
            "image/png": "[encoded data removed]",
            "text/plain": [
              "<Figure size 432x288 with 1 Axes>"
            ]
          },
          "metadata": {
            "tags": [],
            "needs_background": "light"
          }
        }
      ]
    },
    {
      "cell_type": "markdown",
      "metadata": {
        "id": "E-BttYSOYKQo"
      },
      "source": [
        "# data preprocessing"
      ]
    },
    {
      "cell_type": "code",
      "metadata": {
        "colab": {
          "base_uri": "https://localhost:8080/",
          "height": 431
        },
        "id": "nhfENy0VYHAN",
        "outputId": "27df2422-5db6-43a7-c21e-8a197b2e3433"
      },
      "source": [
        "from sklearn.preprocessing import Normalizer, KBinsDiscretizer\r\n",
        "from sklearn.decomposition import PCA\r\n",
        "def preprocessing(data):\r\n",
        "  pca = PCA(n_components=0.8, svd_solver='full')\r\n",
        "  scaler = Normalizer()\r\n",
        "  # data = pca.fit_transform(data)\r\n",
        "  # data = scaler.fit_transform(data)\r\n",
        "  \r\n",
        "  # est = KBinsDiscretizer(\r\n",
        "  #     n_bins=10,\r\n",
        "  #     encode='ordinal',\r\n",
        "  #     strategy='kmeans'\r\n",
        "  # )\r\n",
        "  # data = est.fit_transform(data)\r\n",
        "  return data\r\n",
        "preprocessing(X_train)"
      ],
      "execution_count": 7,
      "outputs": [
        {
          "output_type": "execute_result",
          "data": {
            "text/html": [
              "<div>\n",
              "<style scoped>\n",
              "    .dataframe tbody tr th:only-of-type {\n",
              "        vertical-align: middle;\n",
              "    }\n",
              "\n",
              "    .dataframe tbody tr th {\n",
              "        vertical-align: top;\n",
              "    }\n",
              "\n",
              "    .dataframe thead th {\n",
              "        text-align: right;\n",
              "    }\n",
              "</style>\n",
              "<table border=\"1\" class=\"dataframe\">\n",
              "  <thead>\n",
              "    <tr style=\"text-align: right;\">\n",
              "      <th></th>\n",
              "      <th>cont1</th>\n",
              "      <th>cont2</th>\n",
              "      <th>cont3</th>\n",
              "      <th>cont4</th>\n",
              "      <th>cont5</th>\n",
              "      <th>cont6</th>\n",
              "      <th>cont7</th>\n",
              "      <th>cont8</th>\n",
              "      <th>cont9</th>\n",
              "      <th>cont10</th>\n",
              "      <th>cont11</th>\n",
              "      <th>cont12</th>\n",
              "      <th>cont13</th>\n",
              "      <th>cont14</th>\n",
              "    </tr>\n",
              "    <tr>\n",
              "      <th>id</th>\n",
              "      <th></th>\n",
              "      <th></th>\n",
              "      <th></th>\n",
              "      <th></th>\n",
              "      <th></th>\n",
              "      <th></th>\n",
              "      <th></th>\n",
              "      <th></th>\n",
              "      <th></th>\n",
              "      <th></th>\n",
              "      <th></th>\n",
              "      <th></th>\n",
              "      <th></th>\n",
              "      <th></th>\n",
              "    </tr>\n",
              "  </thead>\n",
              "  <tbody>\n",
              "    <tr>\n",
              "      <th>1</th>\n",
              "      <td>0.670390</td>\n",
              "      <td>0.811300</td>\n",
              "      <td>0.643968</td>\n",
              "      <td>0.291791</td>\n",
              "      <td>0.284117</td>\n",
              "      <td>0.855953</td>\n",
              "      <td>0.890700</td>\n",
              "      <td>0.285542</td>\n",
              "      <td>0.558245</td>\n",
              "      <td>0.779418</td>\n",
              "      <td>0.921832</td>\n",
              "      <td>0.866772</td>\n",
              "      <td>0.878733</td>\n",
              "      <td>0.305411</td>\n",
              "    </tr>\n",
              "    <tr>\n",
              "      <th>3</th>\n",
              "      <td>0.388053</td>\n",
              "      <td>0.621104</td>\n",
              "      <td>0.686102</td>\n",
              "      <td>0.501149</td>\n",
              "      <td>0.643790</td>\n",
              "      <td>0.449805</td>\n",
              "      <td>0.510824</td>\n",
              "      <td>0.580748</td>\n",
              "      <td>0.418335</td>\n",
              "      <td>0.432632</td>\n",
              "      <td>0.439872</td>\n",
              "      <td>0.434971</td>\n",
              "      <td>0.369957</td>\n",
              "      <td>0.369484</td>\n",
              "    </tr>\n",
              "    <tr>\n",
              "      <th>4</th>\n",
              "      <td>0.834950</td>\n",
              "      <td>0.227436</td>\n",
              "      <td>0.301584</td>\n",
              "      <td>0.293408</td>\n",
              "      <td>0.606839</td>\n",
              "      <td>0.829175</td>\n",
              "      <td>0.506143</td>\n",
              "      <td>0.558771</td>\n",
              "      <td>0.587603</td>\n",
              "      <td>0.823312</td>\n",
              "      <td>0.567007</td>\n",
              "      <td>0.677708</td>\n",
              "      <td>0.882938</td>\n",
              "      <td>0.303047</td>\n",
              "    </tr>\n",
              "    <tr>\n",
              "      <th>5</th>\n",
              "      <td>0.820708</td>\n",
              "      <td>0.160155</td>\n",
              "      <td>0.546887</td>\n",
              "      <td>0.726104</td>\n",
              "      <td>0.282444</td>\n",
              "      <td>0.785108</td>\n",
              "      <td>0.752758</td>\n",
              "      <td>0.823267</td>\n",
              "      <td>0.574466</td>\n",
              "      <td>0.580843</td>\n",
              "      <td>0.769594</td>\n",
              "      <td>0.818143</td>\n",
              "      <td>0.914281</td>\n",
              "      <td>0.279528</td>\n",
              "    </tr>\n",
              "    <tr>\n",
              "      <th>8</th>\n",
              "      <td>0.935278</td>\n",
              "      <td>0.421235</td>\n",
              "      <td>0.303801</td>\n",
              "      <td>0.880214</td>\n",
              "      <td>0.665610</td>\n",
              "      <td>0.830131</td>\n",
              "      <td>0.487113</td>\n",
              "      <td>0.604157</td>\n",
              "      <td>0.874658</td>\n",
              "      <td>0.863427</td>\n",
              "      <td>0.983575</td>\n",
              "      <td>0.900464</td>\n",
              "      <td>0.935918</td>\n",
              "      <td>0.435772</td>\n",
              "    </tr>\n",
              "    <tr>\n",
              "      <th>...</th>\n",
              "      <td>...</td>\n",
              "      <td>...</td>\n",
              "      <td>...</td>\n",
              "      <td>...</td>\n",
              "      <td>...</td>\n",
              "      <td>...</td>\n",
              "      <td>...</td>\n",
              "      <td>...</td>\n",
              "      <td>...</td>\n",
              "      <td>...</td>\n",
              "      <td>...</td>\n",
              "      <td>...</td>\n",
              "      <td>...</td>\n",
              "      <td>...</td>\n",
              "    </tr>\n",
              "    <tr>\n",
              "      <th>49690</th>\n",
              "      <td>0.257979</td>\n",
              "      <td>0.737074</td>\n",
              "      <td>0.531459</td>\n",
              "      <td>0.805689</td>\n",
              "      <td>0.440576</td>\n",
              "      <td>0.375699</td>\n",
              "      <td>0.966327</td>\n",
              "      <td>0.546981</td>\n",
              "      <td>0.360548</td>\n",
              "      <td>0.832800</td>\n",
              "      <td>0.428543</td>\n",
              "      <td>0.807083</td>\n",
              "      <td>0.336831</td>\n",
              "      <td>0.580132</td>\n",
              "    </tr>\n",
              "    <tr>\n",
              "      <th>49692</th>\n",
              "      <td>0.955282</td>\n",
              "      <td>0.181632</td>\n",
              "      <td>0.241572</td>\n",
              "      <td>0.627373</td>\n",
              "      <td>0.320519</td>\n",
              "      <td>0.911803</td>\n",
              "      <td>0.480436</td>\n",
              "      <td>0.834425</td>\n",
              "      <td>0.874279</td>\n",
              "      <td>0.823478</td>\n",
              "      <td>0.575884</td>\n",
              "      <td>0.576854</td>\n",
              "      <td>0.952762</td>\n",
              "      <td>0.851120</td>\n",
              "    </tr>\n",
              "    <tr>\n",
              "      <th>49694</th>\n",
              "      <td>0.733869</td>\n",
              "      <td>0.279350</td>\n",
              "      <td>0.158140</td>\n",
              "      <td>0.264932</td>\n",
              "      <td>0.293309</td>\n",
              "      <td>0.622202</td>\n",
              "      <td>0.584085</td>\n",
              "      <td>0.332349</td>\n",
              "      <td>0.429375</td>\n",
              "      <td>0.567979</td>\n",
              "      <td>0.445006</td>\n",
              "      <td>0.482618</td>\n",
              "      <td>0.743944</td>\n",
              "      <td>0.381783</td>\n",
              "    </tr>\n",
              "    <tr>\n",
              "      <th>49695</th>\n",
              "      <td>0.495098</td>\n",
              "      <td>0.142399</td>\n",
              "      <td>0.290211</td>\n",
              "      <td>0.546615</td>\n",
              "      <td>0.665251</td>\n",
              "      <td>0.373056</td>\n",
              "      <td>0.371760</td>\n",
              "      <td>0.295890</td>\n",
              "      <td>0.823233</td>\n",
              "      <td>0.320891</td>\n",
              "      <td>0.432480</td>\n",
              "      <td>0.477603</td>\n",
              "      <td>0.719232</td>\n",
              "      <td>0.609887</td>\n",
              "    </tr>\n",
              "    <tr>\n",
              "      <th>49696</th>\n",
              "      <td>0.504254</td>\n",
              "      <td>0.735223</td>\n",
              "      <td>0.724373</td>\n",
              "      <td>0.309077</td>\n",
              "      <td>0.556332</td>\n",
              "      <td>0.635502</td>\n",
              "      <td>0.808508</td>\n",
              "      <td>0.371806</td>\n",
              "      <td>0.427097</td>\n",
              "      <td>0.442965</td>\n",
              "      <td>0.546778</td>\n",
              "      <td>0.698419</td>\n",
              "      <td>0.609169</td>\n",
              "      <td>0.729278</td>\n",
              "    </tr>\n",
              "  </tbody>\n",
              "</table>\n",
              "<p>30000 rows × 14 columns</p>\n",
              "</div>"
            ],
            "text/plain": [
              "          cont1     cont2     cont3  ...    cont12    cont13    cont14\n",
              "id                                   ...                              \n",
              "1      0.670390  0.811300  0.643968  ...  0.866772  0.878733  0.305411\n",
              "3      0.388053  0.621104  0.686102  ...  0.434971  0.369957  0.369484\n",
              "4      0.834950  0.227436  0.301584  ...  0.677708  0.882938  0.303047\n",
              "5      0.820708  0.160155  0.546887  ...  0.818143  0.914281  0.279528\n",
              "8      0.935278  0.421235  0.303801  ...  0.900464  0.935918  0.435772\n",
              "...         ...       ...       ...  ...       ...       ...       ...\n",
              "49690  0.257979  0.737074  0.531459  ...  0.807083  0.336831  0.580132\n",
              "49692  0.955282  0.181632  0.241572  ...  0.576854  0.952762  0.851120\n",
              "49694  0.733869  0.279350  0.158140  ...  0.482618  0.743944  0.381783\n",
              "49695  0.495098  0.142399  0.290211  ...  0.477603  0.719232  0.609887\n",
              "49696  0.504254  0.735223  0.724373  ...  0.698419  0.609169  0.729278\n",
              "\n",
              "[30000 rows x 14 columns]"
            ]
          },
          "metadata": {
            "tags": []
          },
          "execution_count": 7
        }
      ]
    },
    {
      "cell_type": "markdown",
      "metadata": {
        "id": "ezxNg7v40CCF"
      },
      "source": [
        "# Single DNN model"
      ]
    },
    {
      "cell_type": "code",
      "metadata": {
        "id": "XnQ0GPm9KDTp"
      },
      "source": [
        "# define model\r\n",
        "model = Sequential()\r\n",
        "model.add(Dense(\r\n",
        "    units=25,\r\n",
        "    input_shape=(X_train.shape[1],),\r\n",
        "    activation='relu',\r\n",
        "))\r\n",
        "model.add(Dense(\r\n",
        "    units=1,\r\n",
        "    activation='relu'\r\n",
        "))\r\n",
        "model.compile(\r\n",
        "    loss='mse',\r\n",
        "    optimizer='adam',\r\n",
        "    metrics=[keras.metrics.RootMeanSquaredError()]\r\n",
        ")"
      ],
      "execution_count": 8,
      "outputs": []
    },
    {
      "cell_type": "code",
      "metadata": {
        "id": "UekpHe8JNTiJ"
      },
      "source": [
        "# fit model\r\n",
        "history = model.fit(\r\n",
        "    X_train,\r\n",
        "    y_train,\r\n",
        "    validation_data=(X_test, y_test),\r\n",
        "    batch_size=2048,\r\n",
        "    epochs=1000,\r\n",
        "    verbose=0\r\n",
        ")"
      ],
      "execution_count": 9,
      "outputs": []
    },
    {
      "cell_type": "code",
      "metadata": {
        "colab": {
          "base_uri": "https://localhost:8080/",
          "height": 0
        },
        "id": "1hPJraQyN8sx",
        "outputId": "b39c83db-c26d-4b0a-f6f7-b21401122c3e"
      },
      "source": [
        "train_mse, train_rmse = model.evaluate(X_train, y_train, verbose=0)\r\n",
        "test_mse, test_rmse = model.evaluate(X_test, y_test, verbose=0)\r\n",
        "plt.plot(history.history['root_mean_squared_error'], label='train')\r\n",
        "plt.plot(history.history['val_root_mean_squared_error'], label='test')\r\n",
        "plt.legend()\r\n",
        "plt.show()"
      ],
      "execution_count": 10,
      "outputs": [
        {
          "output_type": "display_data",
          "data": {
            "image/png": "[encoded data removed]",
            "text/plain": [
              "<Figure size 432x288 with 1 Axes>"
            ]
          },
          "metadata": {
            "tags": [],
            "needs_background": "light"
          }
        }
      ]
    },
    {
      "cell_type": "code",
      "metadata": {
        "colab": {
          "base_uri": "https://localhost:8080/"
        },
        "id": "tRu-F9eQPHpP",
        "outputId": "135da078-fbbf-4771-a61e-9a921b155412"
      },
      "source": [
        "print(test_rmse)"
      ],
      "execution_count": 11,
      "outputs": [
        {
          "output_type": "stream",
          "text": [
            "0.7251874804496765\n"
          ],
          "name": "stdout"
        }
      ]
    },
    {
      "cell_type": "markdown",
      "metadata": {
        "id": "YKcWvXeMPMd3"
      },
      "source": [
        "# Train and Save Sub-Models"
      ]
    },
    {
      "cell_type": "markdown",
      "metadata": {
        "id": "fDX9MIyqKYyd"
      },
      "source": [
        "### define sub-models"
      ]
    },
    {
      "cell_type": "code",
      "metadata": {
        "id": "NrX2oyMUJ64H"
      },
      "source": [
        "def build_model_1():  # 32X32X32X1\r\n",
        "  model = Sequential()\r\n",
        "  model.add(Dense(\r\n",
        "      units=32,\r\n",
        "      kernel_initializer='normal',\r\n",
        "      input_shape=(preprocessing(X_train).shape[1],),\r\n",
        "      activation='relu'\r\n",
        "  ))\r\n",
        "  # model.add(Dropout(0.5))\r\n",
        "  model.add(Dense(\r\n",
        "      units=32,\r\n",
        "      kernel_initializer='normal',\r\n",
        "      activation='relu'\r\n",
        "  ))\r\n",
        "  # model.add(Dropout(0.5))\r\n",
        "  model.add(Dense(\r\n",
        "      units=32,\r\n",
        "      kernel_initializer='normal',\r\n",
        "      activation='relu'\r\n",
        "  ))\r\n",
        "  model.add(Dense(\r\n",
        "      units=1,\r\n",
        "      activation='relu'\r\n",
        "  ))\r\n",
        "  model.compile(\r\n",
        "      loss='mse',\r\n",
        "      optimizer='adam',\r\n",
        "      metrics=[keras.metrics.RootMeanSquaredError()]\r\n",
        "  )\r\n",
        "  return model\r\n",
        "def build_model_2():  # 256X256X128X1\r\n",
        "  model = Sequential()\r\n",
        "  model.add(Dense(\r\n",
        "      units=256,\r\n",
        "      kernel_initializer='normal',\r\n",
        "      input_shape=(preprocessing(X_train).shape[1],),\r\n",
        "      activation='relu'\r\n",
        "  ))\r\n",
        "  model.add(Dropout(0.5))\r\n",
        "  model.add(Dense(\r\n",
        "      units=256,\r\n",
        "      kernel_initializer='normal',\r\n",
        "      activation='relu'\r\n",
        "  ))\r\n",
        "  model.add(Dropout(0.5))\r\n",
        "  model.add(Dense(\r\n",
        "      units=128,\r\n",
        "      kernel_initializer='normal',\r\n",
        "      activation='relu'\r\n",
        "  ))\r\n",
        "  model.add(Dense(\r\n",
        "      units=1,\r\n",
        "      activation='relu'\r\n",
        "  ))\r\n",
        "  model.compile(\r\n",
        "      loss='mse',\r\n",
        "      optimizer='adam',\r\n",
        "      metrics=[keras.metrics.RootMeanSquaredError()]\r\n",
        "  )\r\n",
        "  return model\r\n",
        "def build_model_3():  # 64X64X64X64X64X1\r\n",
        "  model = Sequential()\r\n",
        "  model.add(Dense(\r\n",
        "      units=64,\r\n",
        "      kernel_initializer='normal',\r\n",
        "      input_shape=(preprocessing(X_train).shape[1],),\r\n",
        "      activation='relu'\r\n",
        "  ))\r\n",
        "  # model.add(Dropout(0.5))\r\n",
        "  model.add(Dense(\r\n",
        "      units=64,\r\n",
        "      kernel_initializer='normal',\r\n",
        "      activation='relu'\r\n",
        "  ))\r\n",
        "  # model.add(Dropout(0.5))\r\n",
        "  model.add(Dense(\r\n",
        "      units=64,\r\n",
        "      kernel_initializer='normal',\r\n",
        "      activation='relu'\r\n",
        "  ))\r\n",
        "  # model.add(Dropout(0.5))\r\n",
        "  model.add(Dense(\r\n",
        "      units=64,\r\n",
        "      kernel_initializer='normal',\r\n",
        "      activation='relu'\r\n",
        "  ))\r\n",
        "  # model.add(Dropout(0.5))\r\n",
        "  model.add(Dense(\r\n",
        "      units=64,\r\n",
        "      kernel_initializer='normal',\r\n",
        "      activation='relu'\r\n",
        "  ))\r\n",
        "  # model.add(Dropout(0.5))\r\n",
        "  model.add(Dense(\r\n",
        "      units=1,\r\n",
        "      activation='relu'\r\n",
        "  ))\r\n",
        "  model.compile(\r\n",
        "      loss='mse',\r\n",
        "      optimizer='adam',\r\n",
        "      metrics=[keras.metrics.RootMeanSquaredError()]\r\n",
        "  )\r\n",
        "  return model\r\n",
        "def build_model_4():  # 14X32X64X32X14X1\r\n",
        "  model = Sequential()\r\n",
        "  model.add(Dense(\r\n",
        "      units=14,\r\n",
        "      kernel_initializer='normal',\r\n",
        "      input_shape=(preprocessing(X_train).shape[1],),\r\n",
        "      activation='relu'\r\n",
        "  ))\r\n",
        "  # model.add(Dropout(0.5))\r\n",
        "  model.add(Dense(\r\n",
        "      units=32,\r\n",
        "      kernel_initializer='normal',\r\n",
        "      activation='relu'\r\n",
        "  ))\r\n",
        "  # model.add(Dropout(0.5))\r\n",
        "  model.add(Dense(\r\n",
        "      units=64,\r\n",
        "      kernel_initializer='normal',\r\n",
        "      activation='relu'\r\n",
        "  ))\r\n",
        "  # model.add(Dropout(0.5))\r\n",
        "  model.add(Dense(\r\n",
        "      units=32,\r\n",
        "      kernel_initializer='normal',\r\n",
        "      activation='relu'\r\n",
        "  ))\r\n",
        "  # model.add(Dropout(0.5))\r\n",
        "  model.add(Dense(\r\n",
        "      units=14,\r\n",
        "      kernel_initializer='normal',\r\n",
        "      activation='relu'\r\n",
        "  ))\r\n",
        "  # model.add(Dropout(0.5))\r\n",
        "  model.add(Dense(\r\n",
        "      units=1,\r\n",
        "      activation='relu'\r\n",
        "  ))\r\n",
        "  model.compile(\r\n",
        "      loss='mse',\r\n",
        "      optimizer='adam',\r\n",
        "      metrics=[keras.metrics.RootMeanSquaredError()]\r\n",
        "  )\r\n",
        "  return model\r\n",
        "def build_model_5():  # 14X64X64X32X10X1\r\n",
        "  model = Sequential()\r\n",
        "  model.add(Dense(\r\n",
        "      units=14,\r\n",
        "      kernel_initializer='normal',\r\n",
        "      input_shape=(preprocessing(X_train).shape[1],),\r\n",
        "      activation='relu'\r\n",
        "  ))\r\n",
        "  # model.add(Dropout(0.5))\r\n",
        "  model.add(Dense(\r\n",
        "      units=64,\r\n",
        "      kernel_initializer='normal',\r\n",
        "      activation='relu'\r\n",
        "  ))\r\n",
        "  # model.add(Dropout(0.5))\r\n",
        "  model.add(Dense(\r\n",
        "      units=64,\r\n",
        "      kernel_initializer='normal',\r\n",
        "      activation='relu'\r\n",
        "  ))\r\n",
        "  # model.add(Dropout(0.5))\r\n",
        "  model.add(Dense(\r\n",
        "      units=32,\r\n",
        "      kernel_initializer='normal',\r\n",
        "      activation='relu'\r\n",
        "  ))\r\n",
        "  # model.add(Dropout(0.5))\r\n",
        "  model.add(Dense(\r\n",
        "      units=10,\r\n",
        "      kernel_initializer='normal',\r\n",
        "      activation='relu'\r\n",
        "  ))\r\n",
        "  # model.add(Dropout(0.5))\r\n",
        "  model.add(Dense(\r\n",
        "      units=1,\r\n",
        "      activation='relu'\r\n",
        "  ))\r\n",
        "  model.compile(\r\n",
        "      loss='mse',\r\n",
        "      optimizer='adam',\r\n",
        "      metrics=[keras.metrics.RootMeanSquaredError()]\r\n",
        "  )\r\n",
        "  return model"
      ],
      "execution_count": 12,
      "outputs": []
    },
    {
      "cell_type": "code",
      "metadata": {
        "id": "wRFMwXTdWLJz"
      },
      "source": [
        "# fit model\r\n",
        "def fit_model(X, y):\r\n",
        "  model.fit(\r\n",
        "    X,\r\n",
        "    y,\r\n",
        "    epochs=200,\r\n",
        "    batch_size=5000,\r\n",
        "    verbose=0  \r\n",
        "  )\r\n",
        "  return model"
      ],
      "execution_count": 13,
      "outputs": []
    },
    {
      "cell_type": "code",
      "metadata": {
        "colab": {
          "base_uri": "https://localhost:8080/"
        },
        "id": "1EVNzGJHPbcK",
        "outputId": "d11ecc99-f364-416b-cb11-c52a8d53e8c6"
      },
      "source": [
        "# create directory for models\r\n",
        "# if exist, need to delete 子資料夾如果存在需先刪除\r\n",
        "makedirs('models')\r\n",
        "\r\n",
        "n_members = 5\r\n",
        "model1 = build_model_1()\r\n",
        "model2 = build_model_2()\r\n",
        "model3 = build_model_3()\r\n",
        "model4 = build_model_4()\r\n",
        "model5 = build_model_5()\r\n",
        "model_list = [model1, model2, model3, model4, model5]\r\n",
        "for i in range(n_members):\r\n",
        "  model = model_list[i]\r\n",
        "  # fit model\r\n",
        "  model = fit_model(preprocessing(X_train), y_train)\r\n",
        "  # save model\r\n",
        "  filename = 'models/model_' + str(i + 1) + '.h5'\r\n",
        "  model.save(filename)\r\n",
        "  print('>Saved %s' % filename)"
      ],
      "execution_count": 14,
      "outputs": [
        {
          "output_type": "stream",
          "text": [
            ">Saved models/model_1.h5\n",
            ">Saved models/model_2.h5\n",
            ">Saved models/model_3.h5\n",
            ">Saved models/model_4.h5\n",
            ">Saved models/model_5.h5\n"
          ],
          "name": "stdout"
        }
      ]
    },
    {
      "cell_type": "markdown",
      "metadata": {
        "id": "Phw_kQq8R68L"
      },
      "source": [
        "# Separate Stacking Model"
      ]
    },
    {
      "cell_type": "code",
      "metadata": {
        "id": "vkHaGLJXQV76"
      },
      "source": [
        "# load models from file\r\n",
        "def load_all_models(n_models):\r\n",
        "\tall_models = []\r\n",
        "\tfor i in range(n_models):\r\n",
        "\t\t# define filename for this ensemble\r\n",
        "\t\tfilename = 'models/model_' + str(i + 1) + '.h5'\r\n",
        "\t\t# load model from file\r\n",
        "\t\tmodel = load_model(filename)\r\n",
        "\t\t# add to list of members\r\n",
        "\t\tall_models.append(model)\r\n",
        "\t\tprint('>loaded %s' % filename)\r\n",
        "\treturn all_models"
      ],
      "execution_count": 15,
      "outputs": []
    },
    {
      "cell_type": "code",
      "metadata": {
        "colab": {
          "base_uri": "https://localhost:8080/"
        },
        "id": "Wj_jQKUjSXxr",
        "outputId": "e9a90354-7981-470a-b1b6-d78b0edc987e"
      },
      "source": [
        "n_members = 5\r\n",
        "members = load_all_models(n_members)\r\n",
        "print('Load %d model' % len(members)) "
      ],
      "execution_count": 16,
      "outputs": [
        {
          "output_type": "stream",
          "text": [
            ">loaded models/model_1.h5\n",
            ">loaded models/model_2.h5\n",
            ">loaded models/model_3.h5\n",
            ">loaded models/model_4.h5\n",
            ">loaded models/model_5.h5\n",
            "Load 5 model\n"
          ],
          "name": "stdout"
        }
      ]
    },
    {
      "cell_type": "code",
      "metadata": {
        "colab": {
          "base_uri": "https://localhost:8080/"
        },
        "id": "BAxRjNpVTX_v",
        "outputId": "3340c21f-dccf-44a6-befc-12bff22807d0"
      },
      "source": [
        "# evaluate standalone models on test dataset\r\n",
        "# 每個單獨模型對test data評估\r\n",
        "for model in members:\r\n",
        "\tmse, rmse = model.evaluate(preprocessing(X_valid), y_valid, batch_size=5000, verbose=0)\r\n",
        "\tprint('Model RMSE: %.5f' % rmse)"
      ],
      "execution_count": 17,
      "outputs": [
        {
          "output_type": "stream",
          "text": [
            "Model RMSE: 0.72562\n",
            "Model RMSE: 0.72457\n",
            "Model RMSE: 0.72597\n",
            "Model RMSE: 7.93941\n",
            "Model RMSE: 0.72881\n"
          ],
          "name": "stdout"
        }
      ]
    },
    {
      "cell_type": "markdown",
      "metadata": {
        "id": "18a5yherUZut"
      },
      "source": [
        "# Let's train our meta-learner\r\n",
        "This requires two steps:\r\n",
        "\r\n",
        "* Prepare a training dataset for the meta-learner.\r\n",
        "* Use the prepared training dataset to fit a meta-learner model."
      ]
    },
    {
      "cell_type": "code",
      "metadata": {
        "id": "P9vzHlchU4J1"
      },
      "source": [
        "# create stacked model input dataset as outputs from the ensemble\r\n",
        "def stacked_dataset(members, X_input):\r\n",
        "  X_stack = None\r\n",
        "  for model in members:\r\n",
        "    # make prediction\r\n",
        "    yhat = model.predict(X_input, verbose=0)\r\n",
        "    # stack predictions into [rows, members, yhat]\r\n",
        "    if X_stack is None:\r\n",
        "      X_stack = yhat\r\n",
        "    else:\r\n",
        "      # use np.dstack\r\n",
        "      X_stack = dstack((X_stack, yhat))\r\n",
        "    # flatten predictions to [rows, members * yhat]\r\n",
        "  X_stack = X_stack.reshape((X_stack.shape[0], X_stack.shape[1]*X_stack.shape[2]))\r\n",
        "  return X_stack"
      ],
      "execution_count": 18,
      "outputs": []
    },
    {
      "cell_type": "code",
      "metadata": {
        "id": "ByurXHXaWWnJ"
      },
      "source": [
        "# fit a model based on the outputs from the ensemble members\r\n",
        "\r\n",
        "def fit_stacked_model(members, X_input, y_input):\r\n",
        "  # creat dataset using ensemble\r\n",
        "  X_stacked = stacked_dataset(members, X_input)\r\n",
        "  # fit standalone model 擬和每個模型\r\n",
        "  model = LinearRegression()\r\n",
        "  # model = RandomForestRegressor()\r\n",
        "  model.fit(X_stacked, y_input)\r\n",
        "  return model"
      ],
      "execution_count": 19,
      "outputs": []
    },
    {
      "cell_type": "code",
      "metadata": {
        "id": "AlyzHSJVXJYa"
      },
      "source": [
        "# fit stacked model using the ensemble\r\n",
        "model = fit_stacked_model(members, X_test, y_test)\r\n"
      ],
      "execution_count": 20,
      "outputs": []
    },
    {
      "cell_type": "code",
      "metadata": {
        "id": "pAaBAHeDanxf"
      },
      "source": [
        "# make a prediction with the stacked model\r\n",
        "def stacked_prediction(members, model, X_input):\r\n",
        "\t# create dataset using ensemble\r\n",
        "\tX_stacked = stacked_dataset(members, X_input)\r\n",
        "\t# make a prediction\r\n",
        "\tyhat = model.predict(X_stacked)\r\n",
        "\treturn yhat"
      ],
      "execution_count": 21,
      "outputs": []
    },
    {
      "cell_type": "code",
      "metadata": {
        "colab": {
          "base_uri": "https://localhost:8080/"
        },
        "id": "Fs2sTfnna7S2",
        "outputId": "ecd3ef8b-ed41-48ae-d048-f316ac7325c7"
      },
      "source": [
        "# test on new data, we can demonstrate it by making predictions on the test set.\r\n",
        "yhat = stacked_prediction(members, model, (X_valid))\r\n",
        "rmse = mean_squared_error(y_valid, yhat, squared=False)\r\n",
        "print('Stacked test RMSE: %.5f' % rmse)"
      ],
      "execution_count": 22,
      "outputs": [
        {
          "output_type": "stream",
          "text": [
            "Stacked test RMSE: 0.72038\n"
          ],
          "name": "stdout"
        }
      ]
    },
    {
      "cell_type": "markdown",
      "metadata": {
        "id": "JbWnmyq4cJBK"
      },
      "source": [
        "# Make a submission"
      ]
    },
    {
      "cell_type": "code",
      "metadata": {
        "id": "5IyQ7RoScIRH"
      },
      "source": [
        "def Submission(submission, target):\r\n",
        "  submission['target'] = target\r\n",
        "  submission.to_csv('Submission.csv')\r\n",
        "\r\n",
        "target = stacked_prediction(members, model, sub_df)\r\n",
        "Submission(submission_df, target)"
      ],
      "execution_count": 23,
      "outputs": []
    },
    {
      "cell_type": "markdown",
      "metadata": {
        "id": "-NfEIb_8f6rf"
      },
      "source": [
        "# Integrated Stacking Model\r\n",
        "#### When using neural networks as sub-models, it may be desirable to use a neural network as a meta-learner. \r\n",
        "\r\n",
        "#### Combine sub-models to a big DNN model(using the Keras functional interface for developing models.)\r\n",
        "\r\n",
        "#### 如果用DNN當子模型，我們也可以將其合併到一個大個DNN模型，用\"Keras functional interface\"(from keras.models import Model)"
      ]
    },
    {
      "cell_type": "code",
      "metadata": {
        "id": "2YMH6RWLivde"
      },
      "source": [
        "# define stacked model from multiple member input models\r\n",
        "def define_stacked_model(members):\r\n",
        "  # update all layers in all models to not be trainable\r\n",
        "  for i in range(len(members)):\r\n",
        "     model = members[i]\r\n",
        "     for layer in model.layers:\r\n",
        "       # make not trainable\r\n",
        "       layer.trainable = False\r\n",
        "       # rename to avoid 'unique layer name' issue\r\n",
        "       layer._name = 'ensemble_' + str(i) + '_' + layer.name\r\n",
        "  # define multi-headed input 定義多頭的輸入\r\n",
        "  ensemble_visible = [model.input for model in members]\r\n",
        "  # concatenate merge output from each model 合併每個子模型的輸出\r\n",
        "  ensemble_outputs = [model.output for model in members]\r\n",
        "  merge = concatenate(ensemble_outputs)\r\n",
        "  hidden_1 = Dense(300, activation='relu')(merge)\r\n",
        "  hidden_2 = Dense(100, activation='relu')(hidden_1)\r\n",
        "  output = Dense(1, activation='relu')(hidden_2)\r\n",
        "  model = Model(inputs=ensemble_visible, outputs=output)\r\n",
        "  # plot gragh of ensemble\r\n",
        "  plot_model(model, show_shapes=True, to_file='model_graph.png')\r\n",
        "  # compile\r\n",
        "  model.compile(\r\n",
        "      loss='mse',\r\n",
        "      optimizer='adam',\r\n",
        "      metrics=[keras.metrics.RootMeanSquaredError()]\r\n",
        "  )\r\n",
        "  return model"
      ],
      "execution_count": 24,
      "outputs": []
    },
    {
      "cell_type": "code",
      "metadata": {
        "id": "0hrKyzHunCTN"
      },
      "source": [
        "stacked_model = define_stacked_model(members)"
      ],
      "execution_count": 25,
      "outputs": []
    },
    {
      "cell_type": "code",
      "metadata": {
        "id": "KbsMjdlSnd3Z"
      },
      "source": [
        "# fit a stacked model\r\n",
        "def fit_DNN_stacked_model(model, X_input, y_input):\r\n",
        "  # prepare X_input data 集成模型的輸入需要五個子模型的輸入\r\n",
        "  X = [X_input for _ in range(len(model.input))]\r\n",
        "  # fit model\r\n",
        "  model.fit(\r\n",
        "    X,\r\n",
        "    y_input,\r\n",
        "    epochs=100,\r\n",
        "    batch_size=5000,\r\n",
        "    verbose=1\r\n",
        "  )"
      ],
      "execution_count": 26,
      "outputs": []
    },
    {
      "cell_type": "code",
      "metadata": {
        "colab": {
          "base_uri": "https://localhost:8080/"
        },
        "id": "KYl8KQmBpCTd",
        "outputId": "2e242da1-84e5-4b32-ee77-29def7d346d9"
      },
      "source": [
        "fit_DNN_stacked_model(stacked_model, X_test, y_test)"
      ],
      "execution_count": 27,
      "outputs": [
        {
          "output_type": "stream",
          "text": [
            "Epoch 1/100\n",
            "48/48 [==============================] - 5s 83ms/step - loss: 63.0766 - root_mean_squared_error: 7.9421\n",
            "Epoch 2/100\n",
            "48/48 [==============================] - 4s 83ms/step - loss: 63.0179 - root_mean_squared_error: 7.9384\n",
            "Epoch 3/100\n",
            "48/48 [==============================] - 4s 82ms/step - loss: 63.0229 - root_mean_squared_error: 7.9387\n",
            "Epoch 4/100\n",
            "48/48 [==============================] - 4s 83ms/step - loss: 63.0187 - root_mean_squared_error: 7.9384\n",
            "Epoch 5/100\n",
            "48/48 [==============================] - 4s 84ms/step - loss: 63.0276 - root_mean_squared_error: 7.9390\n",
            "Epoch 6/100\n",
            "48/48 [==============================] - 4s 83ms/step - loss: 63.0609 - root_mean_squared_error: 7.9411\n",
            "Epoch 7/100\n",
            "48/48 [==============================] - 4s 83ms/step - loss: 63.0524 - root_mean_squared_error: 7.9406\n",
            "Epoch 8/100\n",
            "48/48 [==============================] - 4s 83ms/step - loss: 63.0332 - root_mean_squared_error: 7.9393\n",
            "Epoch 9/100\n",
            "48/48 [==============================] - 4s 84ms/step - loss: 63.0276 - root_mean_squared_error: 7.9390\n",
            "Epoch 10/100\n",
            "48/48 [==============================] - 4s 84ms/step - loss: 63.0651 - root_mean_squared_error: 7.9414\n",
            "Epoch 11/100\n",
            "48/48 [==============================] - 4s 85ms/step - loss: 63.0530 - root_mean_squared_error: 7.9406\n",
            "Epoch 12/100\n",
            "48/48 [==============================] - 4s 84ms/step - loss: 63.0584 - root_mean_squared_error: 7.9409\n",
            "Epoch 13/100\n",
            "48/48 [==============================] - 4s 84ms/step - loss: 63.0357 - root_mean_squared_error: 7.9395\n",
            "Epoch 14/100\n",
            "48/48 [==============================] - 4s 84ms/step - loss: 63.0126 - root_mean_squared_error: 7.9380\n",
            "Epoch 15/100\n",
            "48/48 [==============================] - 4s 84ms/step - loss: 63.0359 - root_mean_squared_error: 7.9395\n",
            "Epoch 16/100\n",
            "48/48 [==============================] - 4s 84ms/step - loss: 63.0885 - root_mean_squared_error: 7.9428\n",
            "Epoch 17/100\n",
            "48/48 [==============================] - 4s 84ms/step - loss: 63.0271 - root_mean_squared_error: 7.9390\n",
            "Epoch 18/100\n",
            "48/48 [==============================] - 4s 83ms/step - loss: 63.0238 - root_mean_squared_error: 7.9388\n",
            "Epoch 19/100\n",
            "48/48 [==============================] - 4s 84ms/step - loss: 63.0865 - root_mean_squared_error: 7.9427\n",
            "Epoch 20/100\n",
            "48/48 [==============================] - 4s 83ms/step - loss: 63.0503 - root_mean_squared_error: 7.9404\n",
            "Epoch 21/100\n",
            "48/48 [==============================] - 4s 84ms/step - loss: 63.0440 - root_mean_squared_error: 7.9400\n",
            "Epoch 22/100\n",
            "48/48 [==============================] - 4s 85ms/step - loss: 63.0217 - root_mean_squared_error: 7.9386\n",
            "Epoch 23/100\n",
            "48/48 [==============================] - 4s 84ms/step - loss: 63.0466 - root_mean_squared_error: 7.9402\n",
            "Epoch 24/100\n",
            "48/48 [==============================] - 4s 87ms/step - loss: 63.0864 - root_mean_squared_error: 7.9427\n",
            "Epoch 25/100\n",
            "48/48 [==============================] - 4s 85ms/step - loss: 63.0445 - root_mean_squared_error: 7.9401\n",
            "Epoch 26/100\n",
            "48/48 [==============================] - 4s 84ms/step - loss: 62.9912 - root_mean_squared_error: 7.9367\n",
            "Epoch 27/100\n",
            "48/48 [==============================] - 4s 84ms/step - loss: 63.0384 - root_mean_squared_error: 7.9397\n",
            "Epoch 28/100\n",
            "48/48 [==============================] - 4s 84ms/step - loss: 63.0198 - root_mean_squared_error: 7.9385\n",
            "Epoch 29/100\n",
            "48/48 [==============================] - 4s 84ms/step - loss: 63.0272 - root_mean_squared_error: 7.9390\n",
            "Epoch 30/100\n",
            "48/48 [==============================] - 4s 85ms/step - loss: 63.0193 - root_mean_squared_error: 7.9385\n",
            "Epoch 31/100\n",
            "48/48 [==============================] - 4s 84ms/step - loss: 63.0196 - root_mean_squared_error: 7.9385\n",
            "Epoch 32/100\n",
            "48/48 [==============================] - 4s 84ms/step - loss: 63.0692 - root_mean_squared_error: 7.9416\n",
            "Epoch 33/100\n",
            "48/48 [==============================] - 4s 84ms/step - loss: 63.0477 - root_mean_squared_error: 7.9403\n",
            "Epoch 34/100\n",
            "48/48 [==============================] - 4s 84ms/step - loss: 63.0869 - root_mean_squared_error: 7.9427\n",
            "Epoch 35/100\n",
            "48/48 [==============================] - 4s 85ms/step - loss: 63.0203 - root_mean_squared_error: 7.9385\n",
            "Epoch 36/100\n",
            "48/48 [==============================] - 4s 85ms/step - loss: 63.0460 - root_mean_squared_error: 7.9402\n",
            "Epoch 37/100\n",
            "48/48 [==============================] - 4s 85ms/step - loss: 63.0246 - root_mean_squared_error: 7.9388\n",
            "Epoch 38/100\n",
            "48/48 [==============================] - 4s 86ms/step - loss: 62.9982 - root_mean_squared_error: 7.9371\n",
            "Epoch 39/100\n",
            "48/48 [==============================] - 4s 85ms/step - loss: 63.0518 - root_mean_squared_error: 7.9405\n",
            "Epoch 40/100\n",
            "48/48 [==============================] - 4s 84ms/step - loss: 63.0293 - root_mean_squared_error: 7.9391\n",
            "Epoch 41/100\n",
            "48/48 [==============================] - 4s 86ms/step - loss: 63.0420 - root_mean_squared_error: 7.9399\n",
            "Epoch 42/100\n",
            "48/48 [==============================] - 4s 87ms/step - loss: 62.9947 - root_mean_squared_error: 7.9369\n",
            "Epoch 43/100\n",
            "48/48 [==============================] - 4s 87ms/step - loss: 63.0347 - root_mean_squared_error: 7.9394\n",
            "Epoch 44/100\n",
            "48/48 [==============================] - 4s 85ms/step - loss: 63.0444 - root_mean_squared_error: 7.9400\n",
            "Epoch 45/100\n",
            "48/48 [==============================] - 4s 85ms/step - loss: 63.0504 - root_mean_squared_error: 7.9404\n",
            "Epoch 46/100\n",
            "48/48 [==============================] - 4s 85ms/step - loss: 63.0345 - root_mean_squared_error: 7.9394\n",
            "Epoch 47/100\n",
            "48/48 [==============================] - 4s 85ms/step - loss: 63.0295 - root_mean_squared_error: 7.9391\n",
            "Epoch 48/100\n",
            "48/48 [==============================] - 4s 85ms/step - loss: 62.9928 - root_mean_squared_error: 7.9368\n",
            "Epoch 49/100\n",
            "48/48 [==============================] - 4s 85ms/step - loss: 63.0425 - root_mean_squared_error: 7.9399\n",
            "Epoch 50/100\n",
            "48/48 [==============================] - 4s 85ms/step - loss: 63.0230 - root_mean_squared_error: 7.9387\n",
            "Epoch 51/100\n",
            "48/48 [==============================] - 4s 87ms/step - loss: 63.0231 - root_mean_squared_error: 7.9387\n",
            "Epoch 52/100\n",
            "48/48 [==============================] - 4s 87ms/step - loss: 63.0535 - root_mean_squared_error: 7.9406\n",
            "Epoch 53/100\n",
            "48/48 [==============================] - 4s 87ms/step - loss: 63.0160 - root_mean_squared_error: 7.9383\n",
            "Epoch 54/100\n",
            "48/48 [==============================] - 4s 85ms/step - loss: 63.0305 - root_mean_squared_error: 7.9392\n",
            "Epoch 55/100\n",
            "48/48 [==============================] - 4s 85ms/step - loss: 63.0357 - root_mean_squared_error: 7.9395\n",
            "Epoch 56/100\n",
            "48/48 [==============================] - 4s 85ms/step - loss: 63.0426 - root_mean_squared_error: 7.9399\n",
            "Epoch 57/100\n",
            "48/48 [==============================] - 4s 85ms/step - loss: 63.0009 - root_mean_squared_error: 7.9373\n",
            "Epoch 58/100\n",
            "48/48 [==============================] - 4s 85ms/step - loss: 63.0421 - root_mean_squared_error: 7.9399\n",
            "Epoch 59/100\n",
            "48/48 [==============================] - 4s 86ms/step - loss: 63.0329 - root_mean_squared_error: 7.9393\n",
            "Epoch 60/100\n",
            "48/48 [==============================] - 4s 85ms/step - loss: 63.0588 - root_mean_squared_error: 7.9410\n",
            "Epoch 61/100\n",
            "48/48 [==============================] - 4s 86ms/step - loss: 63.0388 - root_mean_squared_error: 7.9397\n",
            "Epoch 62/100\n",
            "48/48 [==============================] - 4s 85ms/step - loss: 63.0538 - root_mean_squared_error: 7.9406\n",
            "Epoch 63/100\n",
            "48/48 [==============================] - 4s 84ms/step - loss: 63.0630 - root_mean_squared_error: 7.9412\n",
            "Epoch 64/100\n",
            "48/48 [==============================] - 4s 85ms/step - loss: 63.0495 - root_mean_squared_error: 7.9404\n",
            "Epoch 65/100\n",
            "48/48 [==============================] - 4s 85ms/step - loss: 63.0429 - root_mean_squared_error: 7.9400\n",
            "Epoch 66/100\n",
            "48/48 [==============================] - 4s 86ms/step - loss: 63.0571 - root_mean_squared_error: 7.9409\n",
            "Epoch 67/100\n",
            "48/48 [==============================] - 4s 85ms/step - loss: 63.0524 - root_mean_squared_error: 7.9406\n",
            "Epoch 68/100\n",
            "48/48 [==============================] - 4s 85ms/step - loss: 63.0150 - root_mean_squared_error: 7.9382\n",
            "Epoch 69/100\n",
            "48/48 [==============================] - 4s 85ms/step - loss: 63.0474 - root_mean_squared_error: 7.9402\n",
            "Epoch 70/100\n",
            "48/48 [==============================] - 4s 84ms/step - loss: 63.0508 - root_mean_squared_error: 7.9405\n",
            "Epoch 71/100\n",
            "48/48 [==============================] - 4s 84ms/step - loss: 63.0588 - root_mean_squared_error: 7.9410\n",
            "Epoch 72/100\n",
            "48/48 [==============================] - 4s 86ms/step - loss: 63.0371 - root_mean_squared_error: 7.9396\n",
            "Epoch 73/100\n",
            "48/48 [==============================] - 4s 87ms/step - loss: 63.0436 - root_mean_squared_error: 7.9400\n",
            "Epoch 74/100\n",
            "48/48 [==============================] - 4s 86ms/step - loss: 62.9961 - root_mean_squared_error: 7.9370\n",
            "Epoch 75/100\n",
            "48/48 [==============================] - 4s 85ms/step - loss: 63.0784 - root_mean_squared_error: 7.9422\n",
            "Epoch 76/100\n",
            "48/48 [==============================] - 4s 84ms/step - loss: 63.0692 - root_mean_squared_error: 7.9416\n",
            "Epoch 77/100\n",
            "48/48 [==============================] - 4s 84ms/step - loss: 63.0309 - root_mean_squared_error: 7.9392\n",
            "Epoch 78/100\n",
            "48/48 [==============================] - 4s 84ms/step - loss: 63.0251 - root_mean_squared_error: 7.9388\n",
            "Epoch 79/100\n",
            "48/48 [==============================] - 4s 84ms/step - loss: 63.0543 - root_mean_squared_error: 7.9407\n",
            "Epoch 80/100\n",
            "48/48 [==============================] - 4s 84ms/step - loss: 63.0617 - root_mean_squared_error: 7.9411\n",
            "Epoch 81/100\n",
            "48/48 [==============================] - 4s 85ms/step - loss: 63.0148 - root_mean_squared_error: 7.9382\n",
            "Epoch 82/100\n",
            "48/48 [==============================] - 4s 85ms/step - loss: 63.0087 - root_mean_squared_error: 7.9378\n",
            "Epoch 83/100\n",
            "48/48 [==============================] - 4s 85ms/step - loss: 63.0093 - root_mean_squared_error: 7.9378\n",
            "Epoch 84/100\n",
            "48/48 [==============================] - 4s 84ms/step - loss: 63.0325 - root_mean_squared_error: 7.9393\n",
            "Epoch 85/100\n",
            "48/48 [==============================] - 4s 85ms/step - loss: 63.0187 - root_mean_squared_error: 7.9384\n",
            "Epoch 86/100\n",
            "48/48 [==============================] - 4s 84ms/step - loss: 63.0872 - root_mean_squared_error: 7.9427\n",
            "Epoch 87/100\n",
            "48/48 [==============================] - 4s 85ms/step - loss: 63.0445 - root_mean_squared_error: 7.9401\n",
            "Epoch 88/100\n",
            "48/48 [==============================] - 4s 85ms/step - loss: 63.0350 - root_mean_squared_error: 7.9395\n",
            "Epoch 89/100\n",
            "48/48 [==============================] - 4s 85ms/step - loss: 63.0515 - root_mean_squared_error: 7.9405\n",
            "Epoch 90/100\n",
            "48/48 [==============================] - 4s 85ms/step - loss: 63.0618 - root_mean_squared_error: 7.9411\n",
            "Epoch 91/100\n",
            "48/48 [==============================] - 4s 85ms/step - loss: 63.0642 - root_mean_squared_error: 7.9413\n",
            "Epoch 92/100\n",
            "48/48 [==============================] - 4s 85ms/step - loss: 63.0307 - root_mean_squared_error: 7.9392\n",
            "Epoch 93/100\n",
            "48/48 [==============================] - 4s 86ms/step - loss: 63.0708 - root_mean_squared_error: 7.9417\n",
            "Epoch 94/100\n",
            "48/48 [==============================] - 4s 85ms/step - loss: 63.0427 - root_mean_squared_error: 7.9399\n",
            "Epoch 95/100\n",
            "48/48 [==============================] - 4s 85ms/step - loss: 63.0655 - root_mean_squared_error: 7.9414\n",
            "Epoch 96/100\n",
            "48/48 [==============================] - 4s 86ms/step - loss: 63.0017 - root_mean_squared_error: 7.9374\n",
            "Epoch 97/100\n",
            "48/48 [==============================] - 4s 85ms/step - loss: 63.0307 - root_mean_squared_error: 7.9392\n",
            "Epoch 98/100\n",
            "48/48 [==============================] - 4s 86ms/step - loss: 63.0101 - root_mean_squared_error: 7.9379\n",
            "Epoch 99/100\n",
            "48/48 [==============================] - 4s 90ms/step - loss: 63.0140 - root_mean_squared_error: 7.9381\n",
            "Epoch 100/100\n",
            "48/48 [==============================] - 4s 86ms/step - loss: 63.0545 - root_mean_squared_error: 7.9407\n"
          ],
          "name": "stdout"
        }
      ]
    },
    {
      "cell_type": "code",
      "metadata": {
        "id": "wXKULJNxpRcg"
      },
      "source": [
        "# make a prediction with a DNN stacked model\r\n",
        "def predict_DNN_stacked_model(model, X_input):\r\n",
        "  # prepare input data\r\n",
        "  X = [X_input for _ in range(len(model.input))]\r\n",
        "  # make prediction\r\n",
        "  return model.predict(X, verbose=0)"
      ],
      "execution_count": 28,
      "outputs": []
    },
    {
      "cell_type": "code",
      "metadata": {
        "colab": {
          "base_uri": "https://localhost:8080/"
        },
        "id": "3Dj-F2ldqGYI",
        "outputId": "af15aca3-0129-4c6b-feb6-0d3ac4f6678a"
      },
      "source": [
        "yhat = predict_DNN_stacked_model(stacked_model, X_valid)\r\n",
        "rmse = mean_squared_error(y_valid, yhat, squared=False)\r\n",
        "print('Stacked test RMSE: %.5f' % rmse)"
      ],
      "execution_count": 29,
      "outputs": [
        {
          "output_type": "stream",
          "text": [
            "Stacked test RMSE: 7.93941\n"
          ],
          "name": "stdout"
        }
      ]
    },
    {
      "cell_type": "markdown",
      "metadata": {
        "id": "RVGcXwmxy3_b"
      },
      "source": [
        "# Make a submission"
      ]
    },
    {
      "cell_type": "code",
      "metadata": {
        "id": "SZJKBZwqy_nL"
      },
      "source": [
        "target = predict_DNN_stacked_model(stacked_model, sub_df)\r\n",
        "Submission(submission_df, target)"
      ],
      "execution_count": 30,
      "outputs": []
    }
  ]
}