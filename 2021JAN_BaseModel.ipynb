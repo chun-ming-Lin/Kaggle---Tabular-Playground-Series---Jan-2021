{
  "nbformat": 4,
  "nbformat_minor": 0,
  "metadata": {
    "colab": {
      "name": "2021JAN_BaseModel.ipynb",
      "provenance": [],
      "toc_visible": true,
      "mount_file_id": "1yYbGIanJzJigsrQdE9q0H5k5sdGjw6Af",
      "authorship_tag": "ABX9TyMyqSy5AgdKffz5ENBF7OTt",
      "include_colab_link": true
    },
    "kernelspec": {
      "name": "python3",
      "display_name": "Python 3"
    },
    "accelerator": "GPU"
  },
  "cells": [
    {
      "cell_type": "markdown",
      "metadata": {
        "id": "view-in-github",
        "colab_type": "text"
      },
      "source": [
        "<a href=\"https://colab.research.google.com/github/chun-ming-Lin/Kaggle---Tabular-Playground-Series---Jan-2021/blob/master/2021JAN_BaseModel.ipynb\" target=\"_parent\"><img src=\"https://colab.research.google.com/assets/colab-badge.svg\" alt=\"Open In Colab\"/></a>"
      ]
    },
    {
      "cell_type": "markdown",
      "metadata": {
        "id": "cnk8ZlpuQmV6"
      },
      "source": [
        "# Import module"
      ]
    },
    {
      "cell_type": "code",
      "metadata": {
        "id": "B7G0mW2YQdeF"
      },
      "source": [
        "from sklearn.linear_model import Lasso, BayesianRidge, Ridge\r\n",
        "from sklearn.svm import SVR\r\n",
        "from sklearn.kernel_ridge import KernelRidge # 跟SVR相似，但是KRR損失函數使用平方差\r\n",
        "from sklearn.neighbors import KNeighborsRegressor, RadiusNeighborsRegressor\r\n",
        "from sklearn.ensemble import VotingRegressor, RandomForestRegressor\r\n",
        "from xgboost.sklearn import XGBRegressor\r\n",
        "from lightgbm.sklearn import LGBMRegressor\r\n",
        "import pandas as pd\r\n",
        "from sklearn.model_selection import train_test_split, cross_val_score\r\n",
        "from sklearn.metrics import mean_squared_error\r\n",
        "from matplotlib import pyplot as plt\r\n",
        "from sklearn.preprocessing import Normalizer, StandardScaler"
      ],
      "execution_count": 1,
      "outputs": []
    },
    {
      "cell_type": "code",
      "metadata": {
        "colab": {
          "base_uri": "https://localhost:8080/",
          "height": 0
        },
        "id": "EdpemDKyVUnL",
        "outputId": "6ea48702-664f-495f-a1ee-e1aec93bc07e"
      },
      "source": [
        "data_df = pd.read_csv('/content/drive/MyDrive/Colab Notebooks/tabular_2021_Jan/train.csv', index_col='id')\r\n",
        "sub_df = pd.read_csv('/content/drive/MyDrive/Colab Notebooks/tabular_2021_Jan/test.csv', index_col='id')\r\n",
        "submission_df = pd.read_csv('/content/drive/MyDrive/Colab Notebooks/tabular_2021_Jan/sample_submission.csv', index_col='id')\r\n",
        "print(data_df.shape, sub_df.shape)\r\n",
        "data_df[:2]"
      ],
      "execution_count": 2,
      "outputs": [
        {
          "output_type": "stream",
          "text": [
            "(300000, 15) (200000, 14)\n"
          ],
          "name": "stdout"
        },
        {
          "output_type": "execute_result",
          "data": {
            "text/html": [
              "<div>\n",
              "<style scoped>\n",
              "    .dataframe tbody tr th:only-of-type {\n",
              "        vertical-align: middle;\n",
              "    }\n",
              "\n",
              "    .dataframe tbody tr th {\n",
              "        vertical-align: top;\n",
              "    }\n",
              "\n",
              "    .dataframe thead th {\n",
              "        text-align: right;\n",
              "    }\n",
              "</style>\n",
              "<table border=\"1\" class=\"dataframe\">\n",
              "  <thead>\n",
              "    <tr style=\"text-align: right;\">\n",
              "      <th></th>\n",
              "      <th>cont1</th>\n",
              "      <th>cont2</th>\n",
              "      <th>cont3</th>\n",
              "      <th>cont4</th>\n",
              "      <th>cont5</th>\n",
              "      <th>cont6</th>\n",
              "      <th>cont7</th>\n",
              "      <th>cont8</th>\n",
              "      <th>cont9</th>\n",
              "      <th>cont10</th>\n",
              "      <th>cont11</th>\n",
              "      <th>cont12</th>\n",
              "      <th>cont13</th>\n",
              "      <th>cont14</th>\n",
              "      <th>target</th>\n",
              "    </tr>\n",
              "    <tr>\n",
              "      <th>id</th>\n",
              "      <th></th>\n",
              "      <th></th>\n",
              "      <th></th>\n",
              "      <th></th>\n",
              "      <th></th>\n",
              "      <th></th>\n",
              "      <th></th>\n",
              "      <th></th>\n",
              "      <th></th>\n",
              "      <th></th>\n",
              "      <th></th>\n",
              "      <th></th>\n",
              "      <th></th>\n",
              "      <th></th>\n",
              "      <th></th>\n",
              "    </tr>\n",
              "  </thead>\n",
              "  <tbody>\n",
              "    <tr>\n",
              "      <th>1</th>\n",
              "      <td>0.670390</td>\n",
              "      <td>0.811300</td>\n",
              "      <td>0.643968</td>\n",
              "      <td>0.291791</td>\n",
              "      <td>0.284117</td>\n",
              "      <td>0.855953</td>\n",
              "      <td>0.890700</td>\n",
              "      <td>0.285542</td>\n",
              "      <td>0.558245</td>\n",
              "      <td>0.779418</td>\n",
              "      <td>0.921832</td>\n",
              "      <td>0.866772</td>\n",
              "      <td>0.878733</td>\n",
              "      <td>0.305411</td>\n",
              "      <td>7.243043</td>\n",
              "    </tr>\n",
              "    <tr>\n",
              "      <th>3</th>\n",
              "      <td>0.388053</td>\n",
              "      <td>0.621104</td>\n",
              "      <td>0.686102</td>\n",
              "      <td>0.501149</td>\n",
              "      <td>0.643790</td>\n",
              "      <td>0.449805</td>\n",
              "      <td>0.510824</td>\n",
              "      <td>0.580748</td>\n",
              "      <td>0.418335</td>\n",
              "      <td>0.432632</td>\n",
              "      <td>0.439872</td>\n",
              "      <td>0.434971</td>\n",
              "      <td>0.369957</td>\n",
              "      <td>0.369484</td>\n",
              "      <td>8.203331</td>\n",
              "    </tr>\n",
              "  </tbody>\n",
              "</table>\n",
              "</div>"
            ],
            "text/plain": [
              "       cont1     cont2     cont3  ...    cont13    cont14    target\n",
              "id                                ...                              \n",
              "1   0.670390  0.811300  0.643968  ...  0.878733  0.305411  7.243043\n",
              "3   0.388053  0.621104  0.686102  ...  0.369957  0.369484  8.203331\n",
              "\n",
              "[2 rows x 15 columns]"
            ]
          },
          "metadata": {
            "tags": []
          },
          "execution_count": 2
        }
      ]
    },
    {
      "cell_type": "code",
      "metadata": {
        "colab": {
          "base_uri": "https://localhost:8080/",
          "height": 0
        },
        "id": "Bxtqzhm_Dmb9",
        "outputId": "4e8b4f9d-d7ea-4eb6-9c69-1a1427b4f04e"
      },
      "source": [
        "plt.plot(data_df['target'], ',')"
      ],
      "execution_count": 3,
      "outputs": [
        {
          "output_type": "execute_result",
          "data": {
            "text/plain": [
              "[<matplotlib.lines.Line2D at 0x7f408e7e5d68>]"
            ]
          },
          "metadata": {
            "tags": []
          },
          "execution_count": 3
        },
        {
          "output_type": "display_data",
          "data": {
            "image/png": "[encoded data removed]",
            "text/plain": [
              "<Figure size 432x288 with 1 Axes>"
            ]
          },
          "metadata": {
            "tags": [],
            "needs_background": "light"
          }
        }
      ]
    },
    {
      "cell_type": "markdown",
      "metadata": {
        "id": "cbAzt9SiWk3P"
      },
      "source": [
        "# Preprocessing data"
      ]
    },
    {
      "cell_type": "code",
      "metadata": {
        "id": "WBVExvC0XLnH"
      },
      "source": [
        "# split target\r\n",
        "data_target = data_df.pop('target')"
      ],
      "execution_count": 4,
      "outputs": []
    },
    {
      "cell_type": "code",
      "metadata": {
        "id": "jJ_PQtnDWkk5"
      },
      "source": [
        "X_train, X_test, y_train, y_test = train_test_split(\r\n",
        "    data_df, data_target, test_size=0.3, random_state=1234\r\n",
        ")"
      ],
      "execution_count": 5,
      "outputs": []
    },
    {
      "cell_type": "code",
      "metadata": {
        "colab": {
          "base_uri": "https://localhost:8080/"
        },
        "id": "Enf7BW2a1vhv",
        "outputId": "1f6843dd-eb6f-4b13-ce5c-9568ac4af783"
      },
      "source": [
        "# drop outlier\r\n",
        "def drop_outlier(X, y):\r\n",
        "  outlier = y[y<4].index\r\n",
        "  X = X.drop(outlier, axis=0)\r\n",
        "  y = y.drop(outlier, axis=0)\r\n",
        "  return X, y\r\n",
        "X_train, y_train = drop_outlier(X_train, y_train)\r\n",
        "X_train.shape, y_train.shape\r\n",
        "data_df, data_target = drop_outlier(data_df, data_target)\r\n",
        "data_df.shape, data_target.shape"
      ],
      "execution_count": 6,
      "outputs": [
        {
          "output_type": "execute_result",
          "data": {
            "text/plain": [
              "((299998, 14), (299998,))"
            ]
          },
          "metadata": {
            "tags": []
          },
          "execution_count": 6
        }
      ]
    },
    {
      "cell_type": "code",
      "metadata": {
        "id": "V5JVh0SYs9bZ"
      },
      "source": [
        "def preprocessing(data):\r\n",
        "  scaler = StandardScaler()\r\n",
        "  data = scaler.fit_transform(data)\r\n",
        "  return data\r\n",
        "X_train = preprocessing(X_train)\r\n",
        "X_test = preprocessing(X_test)\r\n",
        "data_df = preprocessing(data_df)\r\n",
        "sub_df = preprocessing(sub_df)"
      ],
      "execution_count": 12,
      "outputs": []
    },
    {
      "cell_type": "markdown",
      "metadata": {
        "id": "t5TT1PAuWUDM"
      },
      "source": [
        "# Define and fit model"
      ]
    },
    {
      "cell_type": "code",
      "metadata": {
        "id": "Tsy2TTDhbJ5z"
      },
      "source": [
        "lasso = Lasso(alpha=0.01)\r\n",
        "bayesian_ridge = BayesianRidge()\r\n",
        "ridge = Ridge(alpha=0.01)\r\n",
        "xgbr = XGBRegressor(objective='reg:squarederror', eval_metric='rmse')\r\n",
        "# svr = SVR()  # 較慢\r\n",
        "# kernel_ridge = KernelRidge(alpha=0.1)\r\n",
        "# k_neighbor = KNeighborsRegressor()\r\n",
        "# r_neighbor = RadiusNeighborsRegressor()\r\n",
        "model_members = [lasso, bayesian_ridge, ridge, xgbr]"
      ],
      "execution_count": 22,
      "outputs": []
    },
    {
      "cell_type": "code",
      "metadata": {
        "id": "z3Y2xRsjazBV"
      },
      "source": [
        "def train_fit_model(X_train, y_train, X_test, y_test):\r\n",
        "  for model in model_members:\r\n",
        "    model.fit(X_train, y_train)\r\n",
        "    y_hat = model.predict(X_test)\r\n",
        "    rmse = mean_squared_error(y_test, y_hat, squared=False)\r\n",
        "    print(str(model), ' RMSE:', rmse)"
      ],
      "execution_count": 23,
      "outputs": []
    },
    {
      "cell_type": "code",
      "metadata": {
        "colab": {
          "base_uri": "https://localhost:8080/"
        },
        "id": "Br6SKQI2eCnc",
        "outputId": "a2afa6a7-9450-4951-a165-a5c43fc9ef0c"
      },
      "source": [
        "train_fit_model(X_train, y_train, X_test, y_test)"
      ],
      "execution_count": 24,
      "outputs": [
        {
          "output_type": "stream",
          "text": [
            "Lasso(alpha=0.01, copy_X=True, fit_intercept=True, max_iter=1000,\n",
            "      normalize=False, positive=False, precompute=False, random_state=None,\n",
            "      selection='cyclic', tol=0.0001, warm_start=False)  RMSE: 0.7311081208498293\n",
            "BayesianRidge(alpha_1=1e-06, alpha_2=1e-06, alpha_init=None,\n",
            "              compute_score=False, copy_X=True, fit_intercept=True,\n",
            "              lambda_1=1e-06, lambda_2=1e-06, lambda_init=None, n_iter=300,\n",
            "              normalize=False, tol=0.001, verbose=False)  RMSE: 0.7245234007875174\n",
            "Ridge(alpha=0.01, copy_X=True, fit_intercept=True, max_iter=None,\n",
            "      normalize=False, random_state=None, solver='auto', tol=0.001)  RMSE: 0.7245199117356543\n",
            "XGBRegressor(base_score=0.5, booster='gbtree', colsample_bylevel=1,\n",
            "             colsample_bynode=1, colsample_bytree=1, eval_metric='rmse',\n",
            "             gamma=0, importance_type='gain', learning_rate=0.1,\n",
            "             max_delta_step=0, max_depth=3, min_child_weight=1, missing=None,\n",
            "             n_estimators=100, n_jobs=1, nthread=None,\n",
            "             objective='reg:squarederror', random_state=0, reg_alpha=0,\n",
            "             reg_lambda=1, scale_pos_weight=1, seed=None, silent=None,\n",
            "             subsample=1, verbosity=1)  RMSE: 0.7101943945529138\n"
          ],
          "name": "stdout"
        }
      ]
    },
    {
      "cell_type": "markdown",
      "metadata": {
        "id": "WWXYpnyne9-S"
      },
      "source": [
        "# Use XgboostRegression model"
      ]
    },
    {
      "cell_type": "code",
      "metadata": {
        "colab": {
          "base_uri": "https://localhost:8080/"
        },
        "id": "BiyqJ-i6fDit",
        "outputId": "641d1ec7-baba-4c0a-dea3-625ced0d8a1e"
      },
      "source": [
        "xgbr = XGBRegressor(\r\n",
        "    booster='gbtree',\r\n",
        "    eta=0.01,\r\n",
        "    max_depth=12,\r\n",
        "    subsample=0.8,   # like dropout layer\r\n",
        "    # sampling_method='gradient_based',\r\n",
        "    max_bin=400,\r\n",
        "    num_parallel_tree=10,\r\n",
        "    tree_method='gpu_hist',\r\n",
        "    grow_policy='lossguide',\r\n",
        "    min_child_weight=100,\r\n",
        "    deterministic_histogram=False,\r\n",
        "    objective='reg:squarederror',\r\n",
        "    eval_metric='rmse',\r\n",
        "    seed=1234,\r\n",
        ")\r\n",
        "xgbr.fit(X_train, y_train, verbose=1)\r\n",
        "y_hat_xgbr = xgbr.predict(X_test)\r\n",
        "rmse = mean_squared_error(y_test, y_hat_xgbr, squared=False)\r\n",
        "print('RMSE:%.5f' %rmse)"
      ],
      "execution_count": 13,
      "outputs": [
        {
          "output_type": "stream",
          "text": [
            "RMSE:0.69636\n"
          ],
          "name": "stdout"
        }
      ]
    },
    {
      "cell_type": "markdown",
      "metadata": {
        "id": "cLhGFv3Rp-q9"
      },
      "source": [
        "# Use LightGBM"
      ]
    },
    {
      "cell_type": "code",
      "metadata": {
        "colab": {
          "base_uri": "https://localhost:8080/"
        },
        "id": "U68gXb32rp4W",
        "outputId": "9f60f3d7-2704-45b3-c565-0a1be9d83ce2"
      },
      "source": [
        "lgbr = LGBMRegressor(\r\n",
        "    boosting_type='gbdt',\r\n",
        "    max_depth=7,\r\n",
        "    learning_rate=0.1,\r\n",
        "    n_estimators=600,\r\n",
        "    subsample_for_bin=20000,\r\n",
        "    min_child_weight=300,\r\n",
        "    min_split_gain=0,\r\n",
        "    subsample=0.8,\r\n",
        "    random_state=1234,\r\n",
        "    n_jobs=5,\r\n",
        ")\r\n",
        "lgbr.fit(X_train, y_train, verbose=1)\r\n",
        "y_hat_lgbr = lgbr.predict(X_test)\r\n",
        "rmse = mean_squared_error(y_test, y_hat_lgbr, squared=False)\r\n",
        "print('RMSE:%.5f' %rmse)"
      ],
      "execution_count": 14,
      "outputs": [
        {
          "output_type": "stream",
          "text": [
            "RMSE:0.69807\n"
          ],
          "name": "stdout"
        }
      ]
    },
    {
      "cell_type": "code",
      "metadata": {
        "colab": {
          "base_uri": "https://localhost:8080/"
        },
        "id": "zgFR4DYe0SIu",
        "outputId": "98c78e78-4142-40a5-ac32-fec1ee1f64fb"
      },
      "source": [
        "y_hat =  (y_hat_xgbr + y_hat_lgbr) / 2\r\n",
        "rmse = mean_squared_error(y_test, y_hat, squared=False)\r\n",
        "print('RMSE:%.5f' %rmse)"
      ],
      "execution_count": 15,
      "outputs": [
        {
          "output_type": "stream",
          "text": [
            "RMSE:0.69637\n"
          ],
          "name": "stdout"
        }
      ]
    },
    {
      "cell_type": "markdown",
      "metadata": {
        "id": "BzV7Squew_C1"
      },
      "source": [
        "# Make a submission"
      ]
    },
    {
      "cell_type": "code",
      "metadata": {
        "id": "27KPH9aFpb-A"
      },
      "source": [
        "def Submission(submission, target):\r\n",
        "  submission['target'] = target\r\n",
        "  submission.to_csv('Submission.csv')\r\n",
        "\r\n",
        "xgbr_final = xgbr\r\n",
        "lgbr_final = lgbr\r\n",
        "# fit\r\n",
        "xgbr_final.fit(data_df, data_target)\r\n",
        "lgbr_final.fit(data_df, data_target)\r\n",
        "# predict\r\n",
        "y_1 = xgbr_final.predict(sub_df)\r\n",
        "y_2 = lgbr_final.predict(sub_df)\r\n",
        "target = (y_1 + y_2) / 2\r\n",
        "\r\n",
        "Submission(submission_df, target)"
      ],
      "execution_count": 17,
      "outputs": []
    },
    {
      "cell_type": "markdown",
      "metadata": {
        "id": "titk3txeeLog"
      },
      "source": [
        "# Ensemble model"
      ]
    },
    {
      "cell_type": "code",
      "metadata": {
        "id": "LflTfUEvgkQf"
      },
      "source": [
        "# stacking\r\n",
        "# list of (str, estimator) tuples\r\n",
        "estimators = [\r\n",
        "  ('xgbr', xgbr),\r\n",
        "  ('lgbr', lgbr)\r\n",
        "]\r\n",
        "\r\n",
        "ensemble_model = VotingRegressor(estimators)\r\n"
      ],
      "execution_count": 18,
      "outputs": []
    },
    {
      "cell_type": "code",
      "metadata": {
        "colab": {
          "base_uri": "https://localhost:8080/"
        },
        "id": "dPFJVqWT-kdN",
        "outputId": "0ff7c9d1-1daa-4c94-fb31-29ef90ce46fb"
      },
      "source": [
        "ensemble_model.fit(\r\n",
        "    X_train, y_train\r\n",
        ")\r\n",
        "en_yhat = ensemble_model.predict(X_test)\r\n",
        "rmse = mean_squared_error(y_test, en_yhat, squared=False)\r\n",
        "mse = mean_squared_error(y_test, en_yhat)\r\n",
        "print(' mse: %.5f \\nrmse: %.5f' %(mse, rmse))"
      ],
      "execution_count": 19,
      "outputs": [
        {
          "output_type": "stream",
          "text": [
            " mse: 0.48493 \n",
            "rmse: 0.69637\n"
          ],
          "name": "stdout"
        }
      ]
    },
    {
      "cell_type": "markdown",
      "metadata": {
        "id": "97ggwAE8eVCX"
      },
      "source": [
        "# Make a submission"
      ]
    },
    {
      "cell_type": "code",
      "metadata": {
        "id": "CQgXbvcV3IQi"
      },
      "source": [
        "def Submission(submission, target):\r\n",
        "  submission['target'] = target\r\n",
        "  submission.to_csv('Submission.csv')\r\n",
        "\r\n",
        "target = ensemble_model.predict(sub_df)\r\n",
        "Submission(submission_df, target)"
      ],
      "execution_count": null,
      "outputs": []
    }
  ]
}